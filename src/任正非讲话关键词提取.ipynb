{
 "cells": [
  {
   "cell_type": "code",
   "execution_count": 7,
   "metadata": {},
   "outputs": [
    {
     "data": {
      "text/plain": [
       "[[0.5307372463326302, '佳绩'],\n",
       " [0.49590169987042293, '华为'],\n",
       " [0.4761605905951668, '团结'],\n",
       " [0.47216242235563294, '奋斗'],\n",
       " [0.13615456475504972, '创'],\n",
       " [0.06476990415996209, '再']]"
      ]
     },
     "execution_count": 7,
     "metadata": {},
     "output_type": "execute_result"
    }
   ],
   "source": [
    "# boson nlp 关键词提取\n",
    "\n",
    "import os\n",
    "from bosonnlp import BosonNLP\n",
    "\n",
    "nlp = BosonNLP(\"\")\n",
    "root_dir = \"../\"\n",
    "data_dir = \"1994\"\n",
    "\n",
    "file_names = os.listdir(\"{}{}\".format(root_dir, data_dir))\n",
    "file_pathes = [\"{}{}/{}\".format(root_dir, data_dir, file_name) for file_name in file_names]\n",
    "file_contents = []\n",
    "for fp in file_pathes:\n",
    "    with open(fp) as fh:\n",
    "        file_contents.append(fh.readlines())\n",
    "nlp.extract_keywords(file_contents[0][0])"
   ]
  },
  {
   "cell_type": "code",
   "execution_count": 9,
   "metadata": {},
   "outputs": [
    {
     "data": {
      "text/plain": [
       "[[0.682387098959155, '空难'],\n",
       " [0.3910184901471118, '重要性'],\n",
       " [0.38674133654015197, '事故'],\n",
       " [0.3425746940350343, '培训'],\n",
       " [0.3274792999586111, '员工'],\n",
       " [0.05856788050823318, '则'],\n",
       " [0.04838444613683506, '看'],\n",
       " [0.038886388239763835, '从']]"
      ]
     },
     "execution_count": 9,
     "metadata": {},
     "output_type": "execute_result"
    }
   ],
   "source": [
    "nlp.extract_keywords(file_contents[1][0])"
   ]
  },
  {
   "cell_type": "code",
   "execution_count": 11,
   "metadata": {},
   "outputs": [
    {
     "name": "stdout",
     "output_type": "stream",
     "text": [
      "2.6.0\n"
     ]
    }
   ],
   "source": [
    "import sqlite3\n",
    "def create_connection(db_file):\n",
    "    \"\"\" create a database connection to a SQLite database \"\"\"\n",
    "    try:\n",
    "        conn = sqlite3.connect(db_file)\n",
    "        print(sqlite3.version)\n",
    "    except Error as e:\n",
    "        print(e)\n",
    "    finally:\n",
    "        conn.close()\n",
    "create_connection(\"renzhengfei\")"
   ]
  }
 ],
 "metadata": {
  "kernelspec": {
   "display_name": "Python 3",
   "language": "python",
   "name": "python3"
  },
  "language_info": {
   "codemirror_mode": {
    "name": "ipython",
    "version": 3
   },
   "file_extension": ".py",
   "mimetype": "text/x-python",
   "name": "python",
   "nbconvert_exporter": "python",
   "pygments_lexer": "ipython3",
   "version": "3.6.8"
  },
  "toc": {
   "base_numbering": 1,
   "nav_menu": {},
   "number_sections": false,
   "sideBar": false,
   "skip_h1_title": false,
   "title_cell": "Table of Contents",
   "title_sidebar": "Contents",
   "toc_cell": false,
   "toc_position": {},
   "toc_section_display": false,
   "toc_window_display": false
  }
 },
 "nbformat": 4,
 "nbformat_minor": 2
}
