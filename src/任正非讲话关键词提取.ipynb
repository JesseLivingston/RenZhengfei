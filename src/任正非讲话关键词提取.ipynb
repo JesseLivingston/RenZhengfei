{
 "cells": [
  {
   "cell_type": "code",
   "execution_count": 17,
   "metadata": {},
   "outputs": [
    {
     "data": {
      "text/plain": [
       "'/home/fan.chen/beakerx_notebook/RenZhengfei/src/render.html'"
      ]
     },
     "execution_count": 17,
     "metadata": {},
     "output_type": "execute_result"
    }
   ],
   "source": [
    "# boson nlp 关键词提取\n",
    "\n",
    "import os\n",
    "from bosonnlp import BosonNLP\n",
    "import pandas as pd\n",
    "from pyhanlp import *\n",
    "from pyecharts.charts import WordCloud\n",
    "\n",
    "nlp = BosonNLP(\"CaraIVWB.2579.1JfOMxRYnmHD\")\n",
    "root_dir = \"../\"\n",
    "# data_dir = \"1994\"\n",
    "\n",
    "# file_names = os.listdir(\"{}{}\".format(root_dir, data_dir))\n",
    "# file_pathes = [\"{}{}/{}\".format(root_dir, data_dir, file_name) for file_name in file_names]\n",
    "# file_contents = []\n",
    "# for fp in file_pathes:\n",
    "#     with open(fp) as fh:\n",
    "#         file_contents.append(fh.readlines())\n",
    "# nlp.extract_keywords(file_contents[0][0])\n",
    "\n",
    "df = pd.DataFrame()\n",
    "\n",
    "word_count = {}\n",
    "exclude_words = [\"公司\", \"华为\", \"员工\", \"管理\", \"干部\", \"没有\", \"做\"]\n",
    "for year in range(1994, 2019, 1):\n",
    "    if os.path.exists(\"{}{}\".format(root_dir, year)):\n",
    "        year_file_names = os.listdir(\"{}{}\".format(root_dir, year))\n",
    "        for file_name in year_file_names:\n",
    "            date = file_name.split(\"_\")[0]\n",
    "            while len(date) < 8:\n",
    "                date += \"01\"\n",
    "            title = file_name.split(\".\")[0].split(\"_\")[-1]\n",
    "            # print(\"Date: {}, title: {}\".format(date, title))\n",
    "            with open(\"{}{}/{}\".format(root_dir, year, file_name)) as fh:\n",
    "                content = \"\\n\".join(fh.readlines())\n",
    "                #print(\"Content: {}\".format())\n",
    "                for keyword in HanLP.extractKeyword(content, 2):\n",
    "                    if keyword in exclude_words:\n",
    "                            continue\n",
    "                    if keyword in word_count:\n",
    "                        word_count[keyword] = word_count[keyword] + 1\n",
    "                    else:\n",
    "                        word_count[keyword] = 1\n",
    "word_cloud = (WordCloud().add(\"\", [(k, word_count[k]) for k in word_count], word_size_range=[20, 100]))\n",
    "word_cloud.render()"
   ]
  },
  {
   "cell_type": "code",
   "execution_count": 16,
   "metadata": {},
   "outputs": [
    {
     "data": {
      "text/plain": [
       "'/home/fan.chen/beakerx_notebook/RenZhengfei/src/render.html'"
      ]
     },
     "execution_count": 16,
     "metadata": {},
     "output_type": "execute_result"
    }
   ],
   "source": [
    "from pyecharts.charts import Bar, Page, Pie, Timeline, WordCloud\n",
    "\n",
    "def timeline_cloud():\n",
    "    \"\"\"\n",
    "    以时间线的方式展示词云\n",
    "    \"\"\"\n",
    "    exclude_words = [\"公司\", \"华为\", \"员工\", \"管理\", \"干部\", \"没有\", \"做\"]\n",
    "    timeline = Timeline()\n",
    "    for year in range(1994, 2019, 1):\n",
    "        year_word_count = {}\n",
    "        if os.path.exists(\"{}{}\".format(root_dir, year)):\n",
    "            year_file_names = os.listdir(\"{}{}\".format(root_dir, year))\n",
    "            for file_name in year_file_names:\n",
    "                date = file_name.split(\"_\")[0]\n",
    "                while len(date) < 8:\n",
    "                    date += \"01\"\n",
    "                title = file_name.split(\".\")[0].split(\"_\")[-1]\n",
    "                # print(\"Date: {}, title: {}\".format(date, title))\n",
    "                with open(\"{}{}/{}\".format(root_dir, year, file_name)) as fh:\n",
    "                    content = \"\\n\".join(fh.readlines())\n",
    "                    #print(\"Content: {}\".format())\n",
    "                    for keyword in HanLP.extractKeyword(content, 2):\n",
    "                        if keyword in exclude_words:\n",
    "                            continue\n",
    "                        if keyword in year_word_count:\n",
    "                            year_word_count[keyword] = year_word_count[keyword] + 1\n",
    "                        else:\n",
    "                            year_word_count[keyword] = 1\n",
    "        word_cloud = (WordCloud().add(\"\", [(k, word_count[k]) for k in year_word_count], word_size_range=[20, 100]))\n",
    "        timeline.add(word_cloud, \"{}年\".format(year))\n",
    "    return timeline\n",
    "\n",
    "timeline_cloud().render()"
   ]
  },
  {
   "cell_type": "code",
   "execution_count": 11,
   "metadata": {},
   "outputs": [
    {
     "name": "stdout",
     "output_type": "stream",
     "text": [
      "2.6.0\n"
     ]
    }
   ],
   "source": [
    "import sqlite3\n",
    "def create_connection(db_file):\n",
    "    \"\"\" create a database connection to a SQLite database \"\"\"\n",
    "    try:\n",
    "        conn = sqlite3.connect(db_file)\n",
    "        print(sqlite3.version)\n",
    "    except Error as e:\n",
    "        print(e)\n",
    "    finally:\n",
    "        conn.close()\n",
    "create_connection(\"renzhengfei\")"
   ]
  },
  {
   "cell_type": "code",
   "execution_count": 16,
   "metadata": {},
   "outputs": [
    {
     "name": "stdout",
     "output_type": "stream",
     "text": [
      "Downloading https://github.com/hankcs/HanLP/releases/download/v1.7.3/hanlp-1.7.3-release.zip to /home/fan.chen/anaconda3/envs/beakerx/lib/python3.6/site-packages/pyhanlp/static/hanlp-1.7.3-release.zip\n"
     ]
    },
    {
     "ename": "BadZipFile",
     "evalue": "File is not a zip file",
     "output_type": "error",
     "traceback": [
      "\u001b[0;31m---------------------------------------------------------------------------\u001b[0m",
      "\u001b[0;31mBadZipFile\u001b[0m                                Traceback (most recent call last)",
      "\u001b[0;32m<ipython-input-16-a31387d9ce3f>\u001b[0m in \u001b[0;36m<module>\u001b[0;34m\u001b[0m\n\u001b[1;32m      1\u001b[0m \u001b[0;31m# 关系图\u001b[0m\u001b[0;34m\u001b[0m\u001b[0;34m\u001b[0m\u001b[0;34m\u001b[0m\u001b[0m\n\u001b[1;32m      2\u001b[0m \u001b[0;34m\u001b[0m\u001b[0m\n\u001b[0;32m----> 3\u001b[0;31m \u001b[0;32mfrom\u001b[0m \u001b[0mpyhanlp\u001b[0m \u001b[0;32mimport\u001b[0m \u001b[0;34m*\u001b[0m\u001b[0;34m\u001b[0m\u001b[0;34m\u001b[0m\u001b[0m\n\u001b[0m",
      "\u001b[0;32m~/anaconda3/envs/beakerx/lib/python3.6/site-packages/pyhanlp/__init__.py\u001b[0m in \u001b[0;36m<module>\u001b[0;34m\u001b[0m\n\u001b[1;32m    120\u001b[0m \u001b[0;34m\u001b[0m\u001b[0m\n\u001b[1;32m    121\u001b[0m \u001b[0;34m\u001b[0m\u001b[0m\n\u001b[0;32m--> 122\u001b[0;31m \u001b[0m_start_jvm_for_hanlp\u001b[0m\u001b[0;34m(\u001b[0m\u001b[0;34m)\u001b[0m\u001b[0;34m\u001b[0m\u001b[0;34m\u001b[0m\u001b[0m\n\u001b[0m\u001b[1;32m    123\u001b[0m \u001b[0;34m\u001b[0m\u001b[0m\n\u001b[1;32m    124\u001b[0m \u001b[0;34m\u001b[0m\u001b[0m\n",
      "\u001b[0;32m~/anaconda3/envs/beakerx/lib/python3.6/site-packages/pyhanlp/__init__.py\u001b[0m in \u001b[0;36m_start_jvm_for_hanlp\u001b[0;34m()\u001b[0m\n\u001b[1;32m     37\u001b[0m             \u001b[0;32mreturn\u001b[0m \u001b[0;34m'手动安装'\u001b[0m\u001b[0;34m\u001b[0m\u001b[0;34m\u001b[0m\u001b[0m\n\u001b[1;32m     38\u001b[0m     \u001b[0;32melse\u001b[0m\u001b[0;34m:\u001b[0m\u001b[0;34m\u001b[0m\u001b[0;34m\u001b[0m\u001b[0m\n\u001b[0;32m---> 39\u001b[0;31m         \u001b[0;32mfrom\u001b[0m \u001b[0mpyhanlp\u001b[0m\u001b[0;34m.\u001b[0m\u001b[0mstatic\u001b[0m \u001b[0;32mimport\u001b[0m \u001b[0mSTATIC_ROOT\u001b[0m\u001b[0;34m,\u001b[0m \u001b[0mhanlp_installed_data_version\u001b[0m\u001b[0;34m,\u001b[0m \u001b[0mHANLP_DATA_PATH\u001b[0m\u001b[0;34m\u001b[0m\u001b[0;34m\u001b[0m\u001b[0m\n\u001b[0m\u001b[1;32m     40\u001b[0m     \u001b[0;32mif\u001b[0m \u001b[0;34m\"HANLP_JAR_PATH\"\u001b[0m \u001b[0;32min\u001b[0m \u001b[0mENVIRON\u001b[0m\u001b[0;34m:\u001b[0m\u001b[0;34m\u001b[0m\u001b[0;34m\u001b[0m\u001b[0m\n\u001b[1;32m     41\u001b[0m         \u001b[0mHANLP_JAR_PATH\u001b[0m \u001b[0;34m=\u001b[0m \u001b[0mENVIRON\u001b[0m\u001b[0;34m[\u001b[0m\u001b[0;34m\"HANLP_JAR_PATH\"\u001b[0m\u001b[0;34m]\u001b[0m\u001b[0;34m\u001b[0m\u001b[0;34m\u001b[0m\u001b[0m\n",
      "\u001b[0;32m~/anaconda3/envs/beakerx/lib/python3.6/site-packages/pyhanlp/static/__init__.py\u001b[0m in \u001b[0;36m<module>\u001b[0;34m\u001b[0m\n\u001b[1;32m    307\u001b[0m \u001b[0;34m\u001b[0m\u001b[0m\n\u001b[1;32m    308\u001b[0m \u001b[0;32mif\u001b[0m \u001b[0;32mnot\u001b[0m \u001b[0mhanlp_installed_jar_versions\u001b[0m\u001b[0;34m(\u001b[0m\u001b[0;34m)\u001b[0m\u001b[0;34m:\u001b[0m\u001b[0;34m\u001b[0m\u001b[0;34m\u001b[0m\u001b[0m\n\u001b[0;32m--> 309\u001b[0;31m     \u001b[0minstall_hanlp_jar\u001b[0m\u001b[0;34m(\u001b[0m\u001b[0;34m)\u001b[0m\u001b[0;34m\u001b[0m\u001b[0;34m\u001b[0m\u001b[0m\n\u001b[0m\u001b[1;32m    310\u001b[0m \u001b[0;34m\u001b[0m\u001b[0m\n\u001b[1;32m    311\u001b[0m \u001b[0;32mif\u001b[0m \u001b[0;32mnot\u001b[0m \u001b[0mhanlp_installed_data_path\u001b[0m\u001b[0;34m(\u001b[0m\u001b[0;34m)\u001b[0m\u001b[0;34m:\u001b[0m\u001b[0;34m\u001b[0m\u001b[0;34m\u001b[0m\u001b[0m\n",
      "\u001b[0;32m~/anaconda3/envs/beakerx/lib/python3.6/site-packages/pyhanlp/static/__init__.py\u001b[0m in \u001b[0;36minstall_hanlp_jar\u001b[0;34m(version)\u001b[0m\n\u001b[1;32m    198\u001b[0m     \u001b[0mjar_zip\u001b[0m \u001b[0;34m=\u001b[0m \u001b[0mos\u001b[0m\u001b[0;34m.\u001b[0m\u001b[0mpath\u001b[0m\u001b[0;34m.\u001b[0m\u001b[0mjoin\u001b[0m\u001b[0;34m(\u001b[0m\u001b[0mSTATIC_ROOT\u001b[0m\u001b[0;34m,\u001b[0m \u001b[0;34m'hanlp-{}-release.zip'\u001b[0m\u001b[0;34m.\u001b[0m\u001b[0mformat\u001b[0m\u001b[0;34m(\u001b[0m\u001b[0mversion\u001b[0m\u001b[0;34m)\u001b[0m\u001b[0;34m)\u001b[0m\u001b[0;34m\u001b[0m\u001b[0;34m\u001b[0m\u001b[0m\n\u001b[1;32m    199\u001b[0m     \u001b[0mdownload\u001b[0m\u001b[0;34m(\u001b[0m\u001b[0murl\u001b[0m\u001b[0;34m,\u001b[0m \u001b[0mjar_zip\u001b[0m\u001b[0;34m)\u001b[0m\u001b[0;34m\u001b[0m\u001b[0;34m\u001b[0m\u001b[0m\n\u001b[0;32m--> 200\u001b[0;31m     \u001b[0;32mwith\u001b[0m \u001b[0mzipfile\u001b[0m\u001b[0;34m.\u001b[0m\u001b[0mZipFile\u001b[0m\u001b[0;34m(\u001b[0m\u001b[0mjar_zip\u001b[0m\u001b[0;34m,\u001b[0m \u001b[0;34m\"r\"\u001b[0m\u001b[0;34m)\u001b[0m \u001b[0;32mas\u001b[0m \u001b[0marchive\u001b[0m\u001b[0;34m:\u001b[0m\u001b[0;34m\u001b[0m\u001b[0;34m\u001b[0m\u001b[0m\n\u001b[0m\u001b[1;32m    201\u001b[0m         \u001b[0;31m# for f in archive.namelist():\u001b[0m\u001b[0;34m\u001b[0m\u001b[0;34m\u001b[0m\u001b[0;34m\u001b[0m\u001b[0m\n\u001b[1;32m    202\u001b[0m         \u001b[0;31m#     print(f)\u001b[0m\u001b[0;34m\u001b[0m\u001b[0;34m\u001b[0m\u001b[0;34m\u001b[0m\u001b[0m\n",
      "\u001b[0;32m~/anaconda3/envs/beakerx/lib/python3.6/zipfile.py\u001b[0m in \u001b[0;36m__init__\u001b[0;34m(self, file, mode, compression, allowZip64)\u001b[0m\n\u001b[1;32m   1129\u001b[0m         \u001b[0;32mtry\u001b[0m\u001b[0;34m:\u001b[0m\u001b[0;34m\u001b[0m\u001b[0;34m\u001b[0m\u001b[0m\n\u001b[1;32m   1130\u001b[0m             \u001b[0;32mif\u001b[0m \u001b[0mmode\u001b[0m \u001b[0;34m==\u001b[0m \u001b[0;34m'r'\u001b[0m\u001b[0;34m:\u001b[0m\u001b[0;34m\u001b[0m\u001b[0;34m\u001b[0m\u001b[0m\n\u001b[0;32m-> 1131\u001b[0;31m                 \u001b[0mself\u001b[0m\u001b[0;34m.\u001b[0m\u001b[0m_RealGetContents\u001b[0m\u001b[0;34m(\u001b[0m\u001b[0;34m)\u001b[0m\u001b[0;34m\u001b[0m\u001b[0;34m\u001b[0m\u001b[0m\n\u001b[0m\u001b[1;32m   1132\u001b[0m             \u001b[0;32melif\u001b[0m \u001b[0mmode\u001b[0m \u001b[0;32min\u001b[0m \u001b[0;34m(\u001b[0m\u001b[0;34m'w'\u001b[0m\u001b[0;34m,\u001b[0m \u001b[0;34m'x'\u001b[0m\u001b[0;34m)\u001b[0m\u001b[0;34m:\u001b[0m\u001b[0;34m\u001b[0m\u001b[0;34m\u001b[0m\u001b[0m\n\u001b[1;32m   1133\u001b[0m                 \u001b[0;31m# set the modified flag so central directory gets written\u001b[0m\u001b[0;34m\u001b[0m\u001b[0;34m\u001b[0m\u001b[0;34m\u001b[0m\u001b[0m\n",
      "\u001b[0;32m~/anaconda3/envs/beakerx/lib/python3.6/zipfile.py\u001b[0m in \u001b[0;36m_RealGetContents\u001b[0;34m(self)\u001b[0m\n\u001b[1;32m   1196\u001b[0m             \u001b[0;32mraise\u001b[0m \u001b[0mBadZipFile\u001b[0m\u001b[0;34m(\u001b[0m\u001b[0;34m\"File is not a zip file\"\u001b[0m\u001b[0;34m)\u001b[0m\u001b[0;34m\u001b[0m\u001b[0;34m\u001b[0m\u001b[0m\n\u001b[1;32m   1197\u001b[0m         \u001b[0;32mif\u001b[0m \u001b[0;32mnot\u001b[0m \u001b[0mendrec\u001b[0m\u001b[0;34m:\u001b[0m\u001b[0;34m\u001b[0m\u001b[0;34m\u001b[0m\u001b[0m\n\u001b[0;32m-> 1198\u001b[0;31m             \u001b[0;32mraise\u001b[0m \u001b[0mBadZipFile\u001b[0m\u001b[0;34m(\u001b[0m\u001b[0;34m\"File is not a zip file\"\u001b[0m\u001b[0;34m)\u001b[0m\u001b[0;34m\u001b[0m\u001b[0;34m\u001b[0m\u001b[0m\n\u001b[0m\u001b[1;32m   1199\u001b[0m         \u001b[0;32mif\u001b[0m \u001b[0mself\u001b[0m\u001b[0;34m.\u001b[0m\u001b[0mdebug\u001b[0m \u001b[0;34m>\u001b[0m \u001b[0;36m1\u001b[0m\u001b[0;34m:\u001b[0m\u001b[0;34m\u001b[0m\u001b[0;34m\u001b[0m\u001b[0m\n\u001b[1;32m   1200\u001b[0m             \u001b[0mprint\u001b[0m\u001b[0;34m(\u001b[0m\u001b[0mendrec\u001b[0m\u001b[0;34m)\u001b[0m\u001b[0;34m\u001b[0m\u001b[0;34m\u001b[0m\u001b[0m\n",
      "\u001b[0;31mBadZipFile\u001b[0m: File is not a zip file"
     ]
    }
   ],
   "source": [
    "# 关系图\n",
    "\n",
    "from pyhanlp import *"
   ]
  }
 ],
 "metadata": {
  "kernelspec": {
   "display_name": "Python 3",
   "language": "python",
   "name": "python3"
  },
  "language_info": {
   "codemirror_mode": {
    "name": "ipython",
    "version": 3
   },
   "file_extension": ".py",
   "mimetype": "text/x-python",
   "name": "python",
   "nbconvert_exporter": "python",
   "pygments_lexer": "ipython3",
   "version": "3.6.8"
  },
  "toc": {
   "base_numbering": 1,
   "nav_menu": {},
   "number_sections": false,
   "sideBar": false,
   "skip_h1_title": false,
   "title_cell": "Table of Contents",
   "title_sidebar": "Contents",
   "toc_cell": false,
   "toc_position": {},
   "toc_section_display": false,
   "toc_window_display": false
  }
 },
 "nbformat": 4,
 "nbformat_minor": 2
}
